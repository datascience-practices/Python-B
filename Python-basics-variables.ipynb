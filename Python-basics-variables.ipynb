{
 "cells": [
  {
   "cell_type": "code",
   "execution_count": 1,
   "id": "853637ff-f3e9-4afd-b4a4-36ee7ea88b2a",
   "metadata": {},
   "outputs": [],
   "source": [
    "a=10\n"
   ]
  },
  {
   "cell_type": "code",
   "execution_count": 2,
   "id": "d022e8d7-0f08-4e5e-9332-c7ccf7370007",
   "metadata": {},
   "outputs": [
    {
     "data": {
      "text/plain": [
       "10"
      ]
     },
     "execution_count": 2,
     "metadata": {},
     "output_type": "execute_result"
    }
   ],
   "source": [
    "a"
   ]
  },
  {
   "cell_type": "code",
   "execution_count": 3,
   "id": "b68f5e13-18de-40de-ad59-52e685e44cde",
   "metadata": {},
   "outputs": [],
   "source": [
    "ash=\"ABCSDEF\""
   ]
  },
  {
   "cell_type": "code",
   "execution_count": 4,
   "id": "de1bc6a1-2a34-48fa-8965-dbc6051692b1",
   "metadata": {},
   "outputs": [
    {
     "data": {
      "text/plain": [
       "'ABCSDEF'"
      ]
     },
     "execution_count": 4,
     "metadata": {},
     "output_type": "execute_result"
    }
   ],
   "source": [
    "ash"
   ]
  },
  {
   "cell_type": "code",
   "execution_count": 5,
   "id": "c6030ed1-f230-4fed-9228-cad990e02d7f",
   "metadata": {},
   "outputs": [
    {
     "data": {
      "text/plain": [
       "str"
      ]
     },
     "execution_count": 5,
     "metadata": {},
     "output_type": "execute_result"
    }
   ],
   "source": [
    "type(ash)"
   ]
  },
  {
   "cell_type": "code",
   "execution_count": 6,
   "id": "8b451b7d-c47a-4934-9872-55a3af04f1aa",
   "metadata": {},
   "outputs": [
    {
     "data": {
      "text/plain": [
       "int"
      ]
     },
     "execution_count": 6,
     "metadata": {},
     "output_type": "execute_result"
    }
   ],
   "source": [
    "type(a)"
   ]
  },
  {
   "cell_type": "code",
   "execution_count": 7,
   "id": "9045c3d4-f3d9-4a83-b175-0fda4a0c0731",
   "metadata": {},
   "outputs": [],
   "source": [
    "s1='this is my first python lecture'"
   ]
  },
  {
   "cell_type": "code",
   "execution_count": 8,
   "id": "e9342bf8-5a65-41aa-b1c2-d06a273d1d39",
   "metadata": {},
   "outputs": [
    {
     "data": {
      "text/plain": [
       "'this is my first python lecture'"
      ]
     },
     "execution_count": 8,
     "metadata": {},
     "output_type": "execute_result"
    }
   ],
   "source": [
    "s1"
   ]
  },
  {
   "cell_type": "code",
   "execution_count": 9,
   "id": "45a8dadd-b60b-47ec-8515-435a42ada05a",
   "metadata": {},
   "outputs": [
    {
     "data": {
      "text/plain": [
       "str"
      ]
     },
     "execution_count": 9,
     "metadata": {},
     "output_type": "execute_result"
    }
   ],
   "source": [
    "type(s1)"
   ]
  },
  {
   "cell_type": "code",
   "execution_count": 10,
   "id": "9de19b1d-9cde-4745-9fe8-b93e7f0f6ccf",
   "metadata": {},
   "outputs": [],
   "source": [
    "f=234.56\n"
   ]
  },
  {
   "cell_type": "code",
   "execution_count": 11,
   "id": "a70450a5-fc4e-4d59-a34f-baf850324bbc",
   "metadata": {},
   "outputs": [
    {
     "data": {
      "text/plain": [
       "float"
      ]
     },
     "execution_count": 11,
     "metadata": {},
     "output_type": "execute_result"
    }
   ],
   "source": [
    "type(f)"
   ]
  },
  {
   "cell_type": "code",
   "execution_count": 12,
   "id": "f55cd095-90fe-43da-9097-8e726bf6f77f",
   "metadata": {},
   "outputs": [],
   "source": [
    "c=5+6j"
   ]
  },
  {
   "cell_type": "code",
   "execution_count": 13,
   "id": "2d16ac43-d49f-4fba-b244-94f1eaa9192e",
   "metadata": {},
   "outputs": [
    {
     "data": {
      "text/plain": [
       "(5+6j)"
      ]
     },
     "execution_count": 13,
     "metadata": {},
     "output_type": "execute_result"
    }
   ],
   "source": [
    "c"
   ]
  },
  {
   "cell_type": "code",
   "execution_count": 14,
   "id": "fb982cf4-1fa6-4066-aa52-0daad46ade39",
   "metadata": {},
   "outputs": [
    {
     "data": {
      "text/plain": [
       "complex"
      ]
     },
     "execution_count": 14,
     "metadata": {},
     "output_type": "execute_result"
    }
   ],
   "source": [
    "type(c)"
   ]
  },
  {
   "cell_type": "code",
   "execution_count": 15,
   "id": "233de119-b0e9-4faf-b8a3-771e6ef384e2",
   "metadata": {},
   "outputs": [
    {
     "data": {
      "text/plain": [
       "5.0"
      ]
     },
     "execution_count": 15,
     "metadata": {},
     "output_type": "execute_result"
    }
   ],
   "source": [
    "c.real"
   ]
  },
  {
   "cell_type": "code",
   "execution_count": 16,
   "id": "dc972db0-56da-4624-b96b-f4ced95163dd",
   "metadata": {},
   "outputs": [
    {
     "data": {
      "text/plain": [
       "6.0"
      ]
     },
     "execution_count": 16,
     "metadata": {},
     "output_type": "execute_result"
    }
   ],
   "source": [
    "c.imag"
   ]
  },
  {
   "cell_type": "code",
   "execution_count": 19,
   "id": "431f77da-63fa-49c0-afc7-b4c409bff346",
   "metadata": {},
   "outputs": [],
   "source": [
    "b=True\n"
   ]
  },
  {
   "cell_type": "code",
   "execution_count": 20,
   "id": "a6b0fd27-234b-4c2c-abfa-4dcd457804d7",
   "metadata": {},
   "outputs": [
    {
     "data": {
      "text/plain": [
       "True"
      ]
     },
     "execution_count": 20,
     "metadata": {},
     "output_type": "execute_result"
    }
   ],
   "source": [
    "b"
   ]
  },
  {
   "cell_type": "code",
   "execution_count": 21,
   "id": "ce5fb23d-eb1e-4373-9fd8-280c7d29178a",
   "metadata": {},
   "outputs": [],
   "source": [
    "a1 = 34\n",
    "b2 = 45"
   ]
  },
  {
   "cell_type": "code",
   "execution_count": 22,
   "id": "2a7124bb-50bb-4a7b-a490-8e7a00fcb3b7",
   "metadata": {},
   "outputs": [
    {
     "data": {
      "text/plain": [
       "79"
      ]
     },
     "execution_count": 22,
     "metadata": {},
     "output_type": "execute_result"
    }
   ],
   "source": [
    "a1+b2"
   ]
  },
  {
   "cell_type": "code",
   "execution_count": 23,
   "id": "93e6113f-1382-4542-b03b-262e68225774",
   "metadata": {},
   "outputs": [
    {
     "data": {
      "text/plain": [
       "1530"
      ]
     },
     "execution_count": 23,
     "metadata": {},
     "output_type": "execute_result"
    }
   ],
   "source": [
    "a1*b2"
   ]
  },
  {
   "cell_type": "code",
   "execution_count": 24,
   "id": "2d1eab00-f953-4f51-b849-f93e9501bfe0",
   "metadata": {},
   "outputs": [
    {
     "data": {
      "text/plain": [
       "0.7555555555555555"
      ]
     },
     "execution_count": 24,
     "metadata": {},
     "output_type": "execute_result"
    }
   ],
   "source": [
    "a1/b2"
   ]
  },
  {
   "cell_type": "code",
   "execution_count": 25,
   "id": "bbce629a-f836-4c80-9a85-2960968901e7",
   "metadata": {},
   "outputs": [],
   "source": [
    "b1=True\n",
    "b2=False"
   ]
  },
  {
   "cell_type": "code",
   "execution_count": 26,
   "id": "cfb680bf-d338-4545-aaf5-9424b484964d",
   "metadata": {},
   "outputs": [
    {
     "data": {
      "text/plain": [
       "False"
      ]
     },
     "execution_count": 26,
     "metadata": {},
     "output_type": "execute_result"
    }
   ],
   "source": [
    "b1==b2"
   ]
  },
  {
   "cell_type": "code",
   "execution_count": 27,
   "id": "d378a788-484d-4d5b-b867-475126f87352",
   "metadata": {},
   "outputs": [
    {
     "data": {
      "text/plain": [
       "1"
      ]
     },
     "execution_count": 27,
     "metadata": {},
     "output_type": "execute_result"
    }
   ],
   "source": [
    "b1-b2\n"
   ]
  },
  {
   "cell_type": "code",
   "execution_count": 28,
   "id": "bcf490e0-349d-4e59-8388-0f61672e7fe1",
   "metadata": {},
   "outputs": [
    {
     "data": {
      "text/plain": [
       "1"
      ]
     },
     "execution_count": 28,
     "metadata": {},
     "output_type": "execute_result"
    }
   ],
   "source": [
    "b1+b2"
   ]
  },
  {
   "cell_type": "code",
   "execution_count": 29,
   "id": "159a471f-a4ab-4329-8071-d61fb3fa63da",
   "metadata": {},
   "outputs": [
    {
     "ename": "ZeroDivisionError",
     "evalue": "division by zero",
     "output_type": "error",
     "traceback": [
      "\u001b[0;31m---------------------------------------------------------------------------\u001b[0m",
      "\u001b[0;31mZeroDivisionError\u001b[0m                         Traceback (most recent call last)",
      "Cell \u001b[0;32mIn[29], line 1\u001b[0m\n\u001b[0;32m----> 1\u001b[0m \u001b[43mb1\u001b[49m\u001b[38;5;241;43m/\u001b[39;49m\u001b[43mb2\u001b[49m\n",
      "\u001b[0;31mZeroDivisionError\u001b[0m: division by zero"
     ]
    }
   ],
   "source": [
    "b1/b2"
   ]
  },
  {
   "cell_type": "code",
   "execution_count": 30,
   "id": "7eed80e4-42a2-4de6-9cfd-8d140c9ff666",
   "metadata": {},
   "outputs": [],
   "source": [
    "s3=\"master's\""
   ]
  },
  {
   "cell_type": "code",
   "execution_count": 31,
   "id": "87690347-bf71-4c48-bd2d-ddb2e007aef1",
   "metadata": {},
   "outputs": [
    {
     "data": {
      "text/plain": [
       "\"master's\""
      ]
     },
     "execution_count": 31,
     "metadata": {},
     "output_type": "execute_result"
    }
   ],
   "source": [
    "s3"
   ]
  },
  {
   "cell_type": "code",
   "execution_count": 32,
   "id": "39b0d929-a1c4-4750-bc79-48c896f0f4c1",
   "metadata": {},
   "outputs": [],
   "source": [
    "m2='master\"s'"
   ]
  },
  {
   "cell_type": "code",
   "execution_count": 33,
   "id": "a3e0fa00-f5c2-4094-9b83-56302f1282ce",
   "metadata": {},
   "outputs": [
    {
     "data": {
      "text/plain": [
       "'master\"s'"
      ]
     },
     "execution_count": 33,
     "metadata": {},
     "output_type": "execute_result"
    }
   ],
   "source": [
    "m2"
   ]
  },
  {
   "cell_type": "code",
   "execution_count": 34,
   "id": "2771a9ee-937d-4fd3-8f2f-f12fe9d39bbc",
   "metadata": {},
   "outputs": [],
   "source": [
    "s1 = \"Ketaki\""
   ]
  },
  {
   "cell_type": "code",
   "execution_count": 35,
   "id": "5b8d04eb-8500-47fe-b09b-805e54130887",
   "metadata": {},
   "outputs": [],
   "source": [
    "a = 10"
   ]
  },
  {
   "cell_type": "code",
   "execution_count": 39,
   "id": "e2827666-6a30-4e12-8987-2663f5ac3d7c",
   "metadata": {},
   "outputs": [
    {
     "data": {
      "text/plain": [
       "'Ketaki  10'"
      ]
     },
     "execution_count": 39,
     "metadata": {},
     "output_type": "execute_result"
    }
   ],
   "source": [
    "#type casting in python\n",
    "s1 +\"  \" +str(a)"
   ]
  },
  {
   "cell_type": "code",
   "execution_count": 40,
   "id": "f7230571-76af-4b7a-b72c-7c671e9c7380",
   "metadata": {},
   "outputs": [],
   "source": [
    "#we can not convert string into integer \n",
    "s=\"keta\""
   ]
  },
  {
   "cell_type": "code",
   "execution_count": 41,
   "id": "acd981a1-ef92-4a61-a715-e738af3aced1",
   "metadata": {},
   "outputs": [
    {
     "ename": "ValueError",
     "evalue": "invalid literal for int() with base 10: 'keta'",
     "output_type": "error",
     "traceback": [
      "\u001b[0;31m---------------------------------------------------------------------------\u001b[0m",
      "\u001b[0;31mValueError\u001b[0m                                Traceback (most recent call last)",
      "Cell \u001b[0;32mIn[41], line 1\u001b[0m\n\u001b[0;32m----> 1\u001b[0m \u001b[38;5;28;43mint\u001b[39;49m\u001b[43m(\u001b[49m\u001b[43ms\u001b[49m\u001b[43m)\u001b[49m\n",
      "\u001b[0;31mValueError\u001b[0m: invalid literal for int() with base 10: 'keta'"
     ]
    }
   ],
   "source": [
    "int(s)"
   ]
  },
  {
   "cell_type": "code",
   "execution_count": 42,
   "id": "4c2e9cd4-cd71-4476-85ef-62b82298347a",
   "metadata": {},
   "outputs": [],
   "source": [
    "#we can convert string into ineger using this only\n",
    "d=\"10\""
   ]
  },
  {
   "cell_type": "code",
   "execution_count": 43,
   "id": "096b6be1-3a2f-44d7-86e4-8fbdac0e4245",
   "metadata": {},
   "outputs": [
    {
     "data": {
      "text/plain": [
       "10"
      ]
     },
     "execution_count": 43,
     "metadata": {},
     "output_type": "execute_result"
    }
   ],
   "source": [
    "int(d)"
   ]
  },
  {
   "cell_type": "code",
   "execution_count": 44,
   "id": "cb317baa-5231-4eaf-99f8-8e73a43de5a0",
   "metadata": {},
   "outputs": [],
   "source": [
    "a = 7779999"
   ]
  },
  {
   "cell_type": "code",
   "execution_count": 45,
   "id": "0c485f06-ef5f-48a9-b95e-1aaf953453fc",
   "metadata": {},
   "outputs": [
    {
     "data": {
      "text/plain": [
       "7779999"
      ]
     },
     "execution_count": 45,
     "metadata": {},
     "output_type": "execute_result"
    }
   ],
   "source": [
    "a"
   ]
  },
  {
   "cell_type": "code",
   "execution_count": 52,
   "id": "bf956275-2c81-41e5-bb56-893a87a4d689",
   "metadata": {},
   "outputs": [
    {
     "name": "stdin",
     "output_type": "stream",
     "text": [
      "Enter a number 444\n"
     ]
    }
   ],
   "source": [
    "#type casting for input \n",
    "a = int(input(\"Enter a number\"))"
   ]
  },
  {
   "cell_type": "code",
   "execution_count": 53,
   "id": "0b3c8298-316e-4dd6-91bc-8979284412f1",
   "metadata": {},
   "outputs": [
    {
     "data": {
      "text/plain": [
       "444"
      ]
     },
     "execution_count": 53,
     "metadata": {},
     "output_type": "execute_result"
    }
   ],
   "source": [
    "a"
   ]
  },
  {
   "cell_type": "code",
   "execution_count": 75,
   "id": "9e536226-6fdd-4ebb-85f4-49df13f8fc06",
   "metadata": {},
   "outputs": [
    {
     "name": "stdin",
     "output_type": "stream",
     "text": [
      "Enter boolean value: 0\n"
     ]
    }
   ],
   "source": [
    "ddd= bool(input(\"Enter boolean value:\"))"
   ]
  },
  {
   "cell_type": "code",
   "execution_count": 77,
   "id": "407700c3-8667-425f-810d-5c8d944575fc",
   "metadata": {},
   "outputs": [
    {
     "data": {
      "text/plain": [
       "True"
      ]
     },
     "execution_count": 77,
     "metadata": {},
     "output_type": "execute_result"
    }
   ],
   "source": [
    "ddd"
   ]
  },
  {
   "cell_type": "code",
   "execution_count": 67,
   "id": "d261618e-27c4-4636-a502-eb94346c6a65",
   "metadata": {},
   "outputs": [
    {
     "data": {
      "text/plain": [
       "bool"
      ]
     },
     "execution_count": 67,
     "metadata": {},
     "output_type": "execute_result"
    }
   ],
   "source": [
    "type(b)"
   ]
  },
  {
   "cell_type": "code",
   "execution_count": null,
   "id": "11bc1917-cf7f-4057-b5b6-3689be50a9e6",
   "metadata": {},
   "outputs": [],
   "source": [
    "s=\"Ketaki\""
   ]
  },
  {
   "cell_type": "code",
   "execution_count": 82,
   "id": "2fdb6b84-f07b-4f47-b4f1-d48265f04452",
   "metadata": {},
   "outputs": [
    {
     "data": {
      "text/plain": [
       "'t'"
      ]
     },
     "execution_count": 82,
     "metadata": {},
     "output_type": "execute_result"
    }
   ],
   "source": [
    "s[2]"
   ]
  },
  {
   "cell_type": "code",
   "execution_count": 83,
   "id": "2438fc53-6586-4e05-80f6-ff0755a4681c",
   "metadata": {},
   "outputs": [
    {
     "ename": "IndexError",
     "evalue": "string index out of range",
     "output_type": "error",
     "traceback": [
      "\u001b[0;31m---------------------------------------------------------------------------\u001b[0m",
      "\u001b[0;31mIndexError\u001b[0m                                Traceback (most recent call last)",
      "Cell \u001b[0;32mIn[83], line 1\u001b[0m\n\u001b[0;32m----> 1\u001b[0m \u001b[43ms\u001b[49m\u001b[43m[\u001b[49m\u001b[38;5;241;43m34\u001b[39;49m\u001b[43m]\u001b[49m\n",
      "\u001b[0;31mIndexError\u001b[0m: string index out of range"
     ]
    }
   ],
   "source": [
    "s[34]"
   ]
  },
  {
   "cell_type": "code",
   "execution_count": 84,
   "id": "b91f0bfa-2f39-41e3-837b-5c709c52dc3b",
   "metadata": {},
   "outputs": [
    {
     "ename": "IndexError",
     "evalue": "string index out of range",
     "output_type": "error",
     "traceback": [
      "\u001b[0;31m---------------------------------------------------------------------------\u001b[0m",
      "\u001b[0;31mIndexError\u001b[0m                                Traceback (most recent call last)",
      "Cell \u001b[0;32mIn[84], line 1\u001b[0m\n\u001b[0;32m----> 1\u001b[0m \u001b[43ms\u001b[49m\u001b[43m[\u001b[49m\u001b[38;5;241;43m-\u001b[39;49m\u001b[38;5;241;43m44\u001b[39;49m\u001b[43m]\u001b[49m\n",
      "\u001b[0;31mIndexError\u001b[0m: string index out of range"
     ]
    }
   ],
   "source": [
    "s[-44]"
   ]
  },
  {
   "cell_type": "code",
   "execution_count": 93,
   "id": "c0baf0a1-3453-4f34-aa45-41a82d3d2fcb",
   "metadata": {},
   "outputs": [],
   "source": [
    "name = \"pwskills\""
   ]
  },
  {
   "cell_type": "code",
   "execution_count": 94,
   "id": "69220f2d-2255-41e5-9307-7c9b891dc831",
   "metadata": {},
   "outputs": [
    {
     "data": {
      "text/plain": [
       "'pw'"
      ]
     },
     "execution_count": 94,
     "metadata": {},
     "output_type": "execute_result"
    }
   ],
   "source": [
    "name[0]+name[1]"
   ]
  },
  {
   "cell_type": "code",
   "execution_count": 95,
   "id": "3a17f38e-d625-4d9a-bafc-f8ac77907971",
   "metadata": {},
   "outputs": [
    {
     "data": {
      "text/plain": [
       "'ls'"
      ]
     },
     "execution_count": 95,
     "metadata": {},
     "output_type": "execute_result"
    }
   ],
   "source": [
    "name[-2]+name[-1]"
   ]
  },
  {
   "cell_type": "code",
   "execution_count": 96,
   "id": "ffb61403-b634-4049-b476-37332a4eae3a",
   "metadata": {},
   "outputs": [
    {
     "data": {
      "text/plain": [
       "'pw'"
      ]
     },
     "execution_count": 96,
     "metadata": {},
     "output_type": "execute_result"
    }
   ],
   "source": [
    "#slicing of data\n",
    "name[0:2]\n"
   ]
  },
  {
   "cell_type": "code",
   "execution_count": 99,
   "id": "dff86ded-38f1-4e0f-a623-1a1509c9edb2",
   "metadata": {},
   "outputs": [
    {
     "data": {
      "text/plain": [
       "'skill'"
      ]
     },
     "execution_count": 99,
     "metadata": {},
     "output_type": "execute_result"
    }
   ],
   "source": [
    "name[2:7]"
   ]
  },
  {
   "cell_type": "code",
   "execution_count": 101,
   "id": "5ab23b84-a15e-4faf-8d60-8a02dc140921",
   "metadata": {},
   "outputs": [
    {
     "data": {
      "text/plain": [
       "'psil'"
      ]
     },
     "execution_count": 101,
     "metadata": {},
     "output_type": "execute_result"
    }
   ],
   "source": [
    "name[0:7:2]"
   ]
  },
  {
   "cell_type": "code",
   "execution_count": 102,
   "id": "d75031bc-ea54-4398-a834-7681350d4d0b",
   "metadata": {},
   "outputs": [
    {
     "data": {
      "text/plain": [
       "'pwskills'"
      ]
     },
     "execution_count": 102,
     "metadata": {},
     "output_type": "execute_result"
    }
   ],
   "source": [
    "name\n"
   ]
  },
  {
   "cell_type": "code",
   "execution_count": 111,
   "id": "3e1c4823-d149-4d48-9ef8-cef4ea110d32",
   "metadata": {},
   "outputs": [
    {
     "data": {
      "text/plain": [
       "'slli'"
      ]
     },
     "execution_count": 111,
     "metadata": {},
     "output_type": "execute_result"
    }
   ],
   "source": [
    "name[7:3:-1]"
   ]
  },
  {
   "cell_type": "code",
   "execution_count": 119,
   "id": "a765c89b-62f2-4551-9547-7ffb2137b392",
   "metadata": {},
   "outputs": [
    {
     "data": {
      "text/plain": [
       "'sllikswp'"
      ]
     },
     "execution_count": 119,
     "metadata": {},
     "output_type": "execute_result"
    }
   ],
   "source": [
    "name[7:-9:-1]"
   ]
  },
  {
   "cell_type": "code",
   "execution_count": 122,
   "id": "68a62972-071c-40e9-808a-48e93030bd9b",
   "metadata": {},
   "outputs": [
    {
     "data": {
      "text/plain": [
       "'sllikswp'"
      ]
     },
     "execution_count": 122,
     "metadata": {},
     "output_type": "execute_result"
    }
   ],
   "source": [
    "#if not given end point it will take all data\n",
    "name[7::-1]"
   ]
  },
  {
   "cell_type": "code",
   "execution_count": 123,
   "id": "3d7e22b9-ff7a-42d6-adc2-c00fbc998e8b",
   "metadata": {},
   "outputs": [
    {
     "data": {
      "text/plain": [
       "'sllikswp'"
      ]
     },
     "execution_count": 123,
     "metadata": {},
     "output_type": "execute_result"
    }
   ],
   "source": [
    "# no need to add start and end point, it will work for all data\n",
    "name[::-1]"
   ]
  },
  {
   "cell_type": "code",
   "execution_count": 124,
   "id": "4740ee04-5d9b-4d31-82de-22c77f0bcb91",
   "metadata": {},
   "outputs": [
    {
     "ename": "TypeError",
     "evalue": "'str' object does not support item assignment",
     "output_type": "error",
     "traceback": [
      "\u001b[0;31m---------------------------------------------------------------------------\u001b[0m",
      "\u001b[0;31mTypeError\u001b[0m                                 Traceback (most recent call last)",
      "Cell \u001b[0;32mIn[124], line 3\u001b[0m\n\u001b[1;32m      1\u001b[0m \u001b[38;5;66;03m# in string item replacement is not possible\u001b[39;00m\n\u001b[1;32m      2\u001b[0m a\u001b[38;5;241m=\u001b[39m\u001b[38;5;124m\"\u001b[39m\u001b[38;5;124mKundan\u001b[39m\u001b[38;5;124m\"\u001b[39m\n\u001b[0;32m----> 3\u001b[0m \u001b[43ma\u001b[49m\u001b[43m[\u001b[49m\u001b[38;5;241;43m0\u001b[39;49m\u001b[43m]\u001b[49m\u001b[38;5;241m=\u001b[39m\u001b[38;5;124m'\u001b[39m\u001b[38;5;124mr\u001b[39m\u001b[38;5;124m'\u001b[39m\n",
      "\u001b[0;31mTypeError\u001b[0m: 'str' object does not support item assignment"
     ]
    }
   ],
   "source": [
    "# [perticular data from string not able to update]in string item replacement is not possible\n",
    "a=\"Kundan\"\n",
    "a[0]='r'\n",
    "#Its possible in list variable , we can update string index in list only\n",
    "#string is immutable entities\n",
    "#list is mutable entities"
   ]
  },
  {
   "cell_type": "code",
   "execution_count": 125,
   "id": "82e1f331-2211-4367-9407-a396811d2e39",
   "metadata": {},
   "outputs": [
    {
     "data": {
      "text/plain": [
       "'K'"
      ]
     },
     "execution_count": 125,
     "metadata": {},
     "output_type": "execute_result"
    }
   ],
   "source": [
    "a[0]"
   ]
  },
  {
   "cell_type": "code",
   "execution_count": null,
   "id": "2be18e28-4a10-421b-8f54-9f535fd0c60e",
   "metadata": {},
   "outputs": [],
   "source": []
  }
 ],
 "metadata": {
  "kernelspec": {
   "display_name": "Python 3 (ipykernel)",
   "language": "python",
   "name": "python3"
  },
  "language_info": {
   "codemirror_mode": {
    "name": "ipython",
    "version": 3
   },
   "file_extension": ".py",
   "mimetype": "text/x-python",
   "name": "python",
   "nbconvert_exporter": "python",
   "pygments_lexer": "ipython3",
   "version": "3.10.8"
  }
 },
 "nbformat": 4,
 "nbformat_minor": 5
}
